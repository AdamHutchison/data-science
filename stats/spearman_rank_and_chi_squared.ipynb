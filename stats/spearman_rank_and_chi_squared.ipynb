{
 "cells": [
  {
   "cell_type": "markdown",
   "metadata": {},
   "source": [
    "# Exploring correlation between variables\n",
    "## Segment 5 - Delving into non-parametric methods using pandas and scipy"
   ]
  },
  {
   "cell_type": "markdown",
   "metadata": {},
   "source": [
    "### Spearmans Rank Correlation\n",
    "#### Description\n",
    "Finds the R correlation between variable pairs or ordinal data types (catagorical data). Variable pairs can then be ranked based on the strength og the correlation between them\n",
    "\n",
    "* R = 1 indicates strong positive correlation\n",
    "* R = 0 indicates no correlation\n",
    "* R = -1 indicates strong negative correlation\n",
    "\n",
    "#### Assumptions\n",
    "* Variables are ordinal (catagorical)\n",
    "* Variables are related non-linearly\n",
    "* Data is not normaly distributed"
   ]
  },
  {
   "cell_type": "markdown",
   "metadata": {},
   "source": [
    "### Chi-Square\n",
    "#### Descrition\n",
    "Determines if variables are indipendant of one another (no significant relationship between them)\n",
    "\n",
    "#### Null Hypothesis\n",
    "The null hypothesis is what Chi-Square tests against (to determine if you shpould accept or reject it). The null hypothesis is always that there is no significant correlation between the data\n",
    "\n",
    "* p < 0.05 indicates that you should reject the null hypothesis and that there is a correlation between the variables\n",
    "* p > 0.05 indicated that you should accept the null hypothesis and that there is no signifcant correlation between the data\n",
    "\n",
    "#### Assumptions\n",
    "* Variables are categoric or numerical\n",
    "* Numerical values have been binned\\*\n",
    "\n",
    "\\* Binning is where you place numerical values into 'bins' i.e. grouping all values between 1-10, 11-20, 21-30 etc.\n"
   ]
  },
  {
   "cell_type": "code",
   "execution_count": 1,
   "metadata": {},
   "outputs": [],
   "source": [
    "import numpy as np\n",
    "import pandas as pd\n",
    "import seaborn as sb\n",
    "import scipy\n",
    "\n",
    "from matplotlib import pyplot\n",
    "from pylab import rcParams\n",
    "from scipy.stats import spearmanr"
   ]
  },
  {
   "cell_type": "code",
   "execution_count": 2,
   "metadata": {},
   "outputs": [
    {
     "data": {
      "text/html": [
       "<div>\n",
       "<style scoped>\n",
       "    .dataframe tbody tr th:only-of-type {\n",
       "        vertical-align: middle;\n",
       "    }\n",
       "\n",
       "    .dataframe tbody tr th {\n",
       "        vertical-align: top;\n",
       "    }\n",
       "\n",
       "    .dataframe thead th {\n",
       "        text-align: right;\n",
       "    }\n",
       "</style>\n",
       "<table border=\"1\" class=\"dataframe\">\n",
       "  <thead>\n",
       "    <tr style=\"text-align: right;\">\n",
       "      <th></th>\n",
       "      <th>car_names</th>\n",
       "      <th>mpg</th>\n",
       "      <th>cyl</th>\n",
       "      <th>disp</th>\n",
       "      <th>hp</th>\n",
       "      <th>drat</th>\n",
       "      <th>wt</th>\n",
       "      <th>qsec</th>\n",
       "      <th>vs</th>\n",
       "      <th>am</th>\n",
       "      <th>gear</th>\n",
       "      <th>carb</th>\n",
       "    </tr>\n",
       "  </thead>\n",
       "  <tbody>\n",
       "    <tr>\n",
       "      <th>0</th>\n",
       "      <td>Mazda RX4</td>\n",
       "      <td>21.0</td>\n",
       "      <td>6</td>\n",
       "      <td>160.0</td>\n",
       "      <td>110</td>\n",
       "      <td>3.90</td>\n",
       "      <td>2.620</td>\n",
       "      <td>16.46</td>\n",
       "      <td>0</td>\n",
       "      <td>1</td>\n",
       "      <td>4</td>\n",
       "      <td>4</td>\n",
       "    </tr>\n",
       "    <tr>\n",
       "      <th>1</th>\n",
       "      <td>Mazda RX4 Wag</td>\n",
       "      <td>21.0</td>\n",
       "      <td>6</td>\n",
       "      <td>160.0</td>\n",
       "      <td>110</td>\n",
       "      <td>3.90</td>\n",
       "      <td>2.875</td>\n",
       "      <td>17.02</td>\n",
       "      <td>0</td>\n",
       "      <td>1</td>\n",
       "      <td>4</td>\n",
       "      <td>4</td>\n",
       "    </tr>\n",
       "    <tr>\n",
       "      <th>2</th>\n",
       "      <td>Datsun 710</td>\n",
       "      <td>22.8</td>\n",
       "      <td>4</td>\n",
       "      <td>108.0</td>\n",
       "      <td>93</td>\n",
       "      <td>3.85</td>\n",
       "      <td>2.320</td>\n",
       "      <td>18.61</td>\n",
       "      <td>1</td>\n",
       "      <td>1</td>\n",
       "      <td>4</td>\n",
       "      <td>1</td>\n",
       "    </tr>\n",
       "    <tr>\n",
       "      <th>3</th>\n",
       "      <td>Hornet 4 Drive</td>\n",
       "      <td>21.4</td>\n",
       "      <td>6</td>\n",
       "      <td>258.0</td>\n",
       "      <td>110</td>\n",
       "      <td>3.08</td>\n",
       "      <td>3.215</td>\n",
       "      <td>19.44</td>\n",
       "      <td>1</td>\n",
       "      <td>0</td>\n",
       "      <td>3</td>\n",
       "      <td>1</td>\n",
       "    </tr>\n",
       "    <tr>\n",
       "      <th>4</th>\n",
       "      <td>Hornet Sportabout</td>\n",
       "      <td>18.7</td>\n",
       "      <td>8</td>\n",
       "      <td>360.0</td>\n",
       "      <td>175</td>\n",
       "      <td>3.15</td>\n",
       "      <td>3.440</td>\n",
       "      <td>17.02</td>\n",
       "      <td>0</td>\n",
       "      <td>0</td>\n",
       "      <td>3</td>\n",
       "      <td>2</td>\n",
       "    </tr>\n",
       "  </tbody>\n",
       "</table>\n",
       "</div>"
      ],
      "text/plain": [
       "           car_names   mpg  cyl   disp   hp  drat     wt   qsec  vs  am  gear  \\\n",
       "0          Mazda RX4  21.0    6  160.0  110  3.90  2.620  16.46   0   1     4   \n",
       "1      Mazda RX4 Wag  21.0    6  160.0  110  3.90  2.875  17.02   0   1     4   \n",
       "2         Datsun 710  22.8    4  108.0   93  3.85  2.320  18.61   1   1     4   \n",
       "3     Hornet 4 Drive  21.4    6  258.0  110  3.08  3.215  19.44   1   0     3   \n",
       "4  Hornet Sportabout  18.7    8  360.0  175  3.15  3.440  17.02   0   0     3   \n",
       "\n",
       "   carb  \n",
       "0     4  \n",
       "1     4  \n",
       "2     1  \n",
       "3     1  \n",
       "4     2  "
      ]
     },
     "execution_count": 2,
     "metadata": {},
     "output_type": "execute_result"
    }
   ],
   "source": [
    "cars = pd.read_csv('./mtcars.csv')\n",
    "cars.head()"
   ]
  },
  {
   "cell_type": "markdown",
   "metadata": {},
   "source": [
    "### The Spearman Rank Correlation"
   ]
  },
  {
   "cell_type": "code",
   "execution_count": 3,
   "metadata": {},
   "outputs": [
    {
     "data": {
      "text/plain": [
       "<seaborn.axisgrid.PairGrid at 0x108cff6a0>"
      ]
     },
     "execution_count": 3,
     "metadata": {},
     "output_type": "execute_result"
    },
    {
     "data": {
      "image/png": "[encoded data removed]",
      "text/plain": [
       "<matplotlib.figure.Figure at 0x108cffb00>"
      ]
     },
     "metadata": {},
     "output_type": "display_data"
    }
   ],
   "source": [
    "data = cars[['cyl', 'vs', 'am', 'gear']]\n",
    "sb.pairplot(data)"
   ]
  },
  {
   "cell_type": "code",
   "execution_count": 4,
   "metadata": {},
   "outputs": [
    {
     "name": "stdout",
     "output_type": "stream",
     "text": [
      "Spearman coefficient is -0.81, p value is 1.4840576453926875e-08\n"
     ]
    }
   ],
   "source": [
    "cyl = cars['cyl']\n",
    "vs = cars['vs']\n",
    "am = cars['am']\n",
    "gears = cars['gear']\n",
    "\n",
    "spearmanr_coefficient, p_value = spearmanr(cyl, vs)\n",
    "print(f\"Spearman coefficient is {spearmanr_coefficient:.2f}, p value is {p_value}\")"
   ]
  },
  {
   "cell_type": "code",
   "execution_count": 5,
   "metadata": {},
   "outputs": [
    {
     "name": "stdout",
     "output_type": "stream",
     "text": [
      "Spearman coefficient is -0.52, p value is 0.0021780464381859484\n"
     ]
    }
   ],
   "source": [
    "spearmanr_coefficient, p_value = spearmanr(cyl, am)\n",
    "print(f\"Spearman coefficient is {spearmanr_coefficient:.2f}, p value is {p_value}\")"
   ]
  },
  {
   "cell_type": "code",
   "execution_count": 6,
   "metadata": {},
   "outputs": [
    {
     "name": "stdout",
     "output_type": "stream",
     "text": [
      "Spearman coefficient is -0.56, p value is 0.0007678208835711609\n"
     ]
    }
   ],
   "source": [
    "spearmanr_coefficient, p_value = spearmanr(cyl, gears)\n",
    "print(f\"Spearman coefficient is {spearmanr_coefficient:.2f}, p value is {p_value}\")"
   ]
  },
  {
   "cell_type": "markdown",
   "metadata": {},
   "source": [
    "### Chi-square test for independence"
   ]
  },
  {
   "cell_type": "code",
   "execution_count": 7,
   "metadata": {},
   "outputs": [
    {
     "name": "stdout",
     "output_type": "stream",
     "text": [
      "Chi squared is 21.339929911358485, p value is 2.3232347637946903e-05, degrees of freedom is 2\n"
     ]
    }
   ],
   "source": [
    "# p value is less than 0.05 so we reject the null hypothesis and conclude that the variables are corelated \n",
    "\n",
    "table = pd.crosstab(cyl,vs)\n",
    "chi2, p_value, dof, expected = scipy.stats.chi2_contingency(table.values)\n",
    "\n",
    "print(f\"Chi squared is {chi2}, p value is {p_value}, degrees of freedom is {dof}\")"
   ]
  },
  {
   "cell_type": "code",
   "execution_count": 8,
   "metadata": {},
   "outputs": [
    {
     "name": "stdout",
     "output_type": "stream",
     "text": [
      "Chi squared is 8.740732951259268, p value is 0.012646605046107276, degrees of freedom is 2\n"
     ]
    }
   ],
   "source": [
    "# p value is less than 0.05 so we reject the null hypothesis and conclude that the variables are corelated \n",
    "\n",
    "table = pd.crosstab(cyl,am)\n",
    "chi2, p_value, dof, expected = scipy.stats.chi2_contingency(table.values)\n",
    "\n",
    "print(f\"Chi squared is {chi2}, p value is {p_value}, degrees of freedom is {dof}\")"
   ]
  },
  {
   "cell_type": "code",
   "execution_count": 9,
   "metadata": {},
   "outputs": [
    {
     "name": "stdout",
     "output_type": "stream",
     "text": [
      "Chi squared is 18.03636363636364, p value is 0.0012140660337851554, degrees of freedom is 4\n"
     ]
    }
   ],
   "source": [
    "# p value is less than 0.05 so we reject the null hypothesis and conclude that the variables are corelated \n",
    "\n",
    "table = pd.crosstab(cyl,gears)\n",
    "chi2, p_value, dof, expected = scipy.stats.chi2_contingency(table.values)\n",
    "\n",
    "print(f\"Chi squared is {chi2}, p value is {p_value}, degrees of freedom is {dof}\")"
   ]
  }
 ],
 "metadata": {
  "kernelspec": {
   "display_name": "Python 3",
   "language": "python",
   "name": "python3"
  },
  "language_info": {
   "codemirror_mode": {
    "name": "ipython",
    "version": 3
   },
   "file_extension": ".py",
   "mimetype": "text/x-python",
   "name": "python",
   "nbconvert_exporter": "python",
   "pygments_lexer": "ipython3",
   "version": "3.6.4"
  }
 },
 "nbformat": 4,
 "nbformat_minor": 1
}
